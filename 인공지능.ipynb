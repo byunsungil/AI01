{
  "nbformat": 4,
  "nbformat_minor": 0,
  "metadata": {
    "colab": {
      "provenance": [],
      "authorship_tag": "ABX9TyMlaNeNyTwOf921+cbvgQAr",
      "include_colab_link": true
    },
    "kernelspec": {
      "name": "python3",
      "display_name": "Python 3"
    },
    "language_info": {
      "name": "python"
    }
  },
  "cells": [
    {
      "cell_type": "markdown",
      "metadata": {
        "id": "view-in-github",
        "colab_type": "text"
      },
      "source": [
        "<a href=\"https://colab.research.google.com/github/byunsungil/AI01/blob/main/%EC%9D%B8%EA%B3%B5%EC%A7%80%EB%8A%A5.ipynb\" target=\"_parent\"><img src=\"https://colab.research.google.com/assets/colab-badge.svg\" alt=\"Open In Colab\"/></a>"
      ]
    },
    {
      "cell_type": "code",
      "source": [
        "인공지능_0 문제"
      ],
      "metadata": {
        "id": "W9nnlh_GDFad"
      },
      "execution_count": null,
      "outputs": []
    },
    {
      "cell_type": "code",
      "source": [
        "name = \"변성일\"\n",
        "age = 25\n",
        "print(\"저의 이름은 {}이고, 나이는 {}살 입니다.\".format(name,age))"
      ],
      "metadata": {
        "id": "ZyHMRKiM02MQ",
        "colab": {
          "base_uri": "https://localhost:8080/"
        },
        "outputId": "082d1e84-9d79-41ab-935e-e83aa459c0de"
      },
      "execution_count": null,
      "outputs": [
        {
          "output_type": "stream",
          "name": "stdout",
          "text": [
            "저의 이름은 변성일이고, 나이는 25살 입니다.\n"
          ]
        }
      ]
    },
    {
      "cell_type": "code",
      "source": [
        "name = input()\n",
        "age =  int(input())\n",
        "print((\"이름 : {}, 나이 :{}\").format(name,age))"
      ],
      "metadata": {
        "id": "pP92Hnw4DVf0",
        "outputId": "53558b76-cef9-4aa0-cb4f-86a8ad4473de",
        "colab": {
          "base_uri": "https://localhost:8080/"
        }
      },
      "execution_count": 2,
      "outputs": [
        {
          "output_type": "stream",
          "name": "stdout",
          "text": [
            "변성일\n",
            "25\n",
            "이름 : 변성일, 나이 :25\n"
          ]
        }
      ]
    },
    {
      "cell_type": "markdown",
      "source": [
        "응용1"
      ],
      "metadata": {
        "id": "mg-QjMK3H5VQ"
      }
    },
    {
      "cell_type": "code",
      "source": [
        "cname = input()\n",
        "name = input()\n",
        "age - int(input())\n",
        "hight= int(input())\n",
        "print((\"저는 {}학과이고, 이름은 {}, 나이는 {},키는 {} 입니다.\").format(cname,name,age,hight))"
      ],
      "metadata": {
        "id": "Cw07NPRwG-3N",
        "outputId": "76efad07-fec5-4cd6-97de-b85bc572125b",
        "colab": {
          "base_uri": "https://localhost:8080/"
        }
      },
      "execution_count": 14,
      "outputs": [
        {
          "output_type": "stream",
          "name": "stdout",
          "text": [
            "소프트웨어\n",
            "변성일\n",
            "25\n",
            "5674654\n",
            "저는 소프트웨어학과이고, 이름은 변성일, 나이는 25,키는 5674654 입니다.\n"
          ]
        }
      ]
    },
    {
      "cell_type": "code",
      "source": [
        "exam = [60,80,95,69,90,81,80,69,79,66,70,90,96]\n",
        "grade = []\n",
        "\n",
        "for score in exam:\n",
        "    if score >= 90:\n",
        "        grade.append('A')\n",
        "    elif score >= 80:\n",
        "        grade.append('B')\n",
        "    elif score >= 70:\n",
        "        grade.append('C')\n",
        "    elif score >= 60:\n",
        "        grade.append('D')\n",
        "    else:\n",
        "        grade.append('F')\n",
        "\n",
        "print(grade)\n"
      ],
      "metadata": {
        "id": "dk6lsKvt01e8",
        "colab": {
          "base_uri": "https://localhost:8080/"
        },
        "outputId": "753684c0-6895-4ff0-af00-aedea56f3d61"
      },
      "execution_count": null,
      "outputs": [
        {
          "output_type": "stream",
          "name": "stdout",
          "text": [
            "['D', 'B', 'A', 'D', 'A', 'B', 'B', 'D', 'C', 'D', 'C', 'A', 'A']\n"
          ]
        }
      ]
    },
    {
      "cell_type": "code",
      "source": [
        "exam = [60,80,95,69,90,81,80,69,79,66,70,90,96]\n",
        "for i in exam:\n",
        "  if i >= 90:\n",
        "    print(\"A\")\n",
        "  elif i >=80 and i<90:\n",
        "    print(\"B\")\n",
        "  elif i >=70 and i <80:\n",
        "    print(\"C\")\n",
        "  elif i>=60 and i<70:\n",
        "    print(\"D\")\n",
        "  else:\n",
        "    print(\"F\")\n",
        "      "
      ],
      "metadata": {
        "id": "buws3C5fEm4y",
        "outputId": "a0630912-8f89-4067-be27-1d2a89e42475",
        "colab": {
          "base_uri": "https://localhost:8080/"
        }
      },
      "execution_count": 9,
      "outputs": [
        {
          "output_type": "stream",
          "name": "stdout",
          "text": [
            "D\n",
            "B\n",
            "A\n",
            "D\n",
            "A\n",
            "B\n",
            "B\n",
            "D\n",
            "C\n",
            "D\n",
            "C\n",
            "A\n",
            "A\n"
          ]
        }
      ]
    },
    {
      "cell_type": "markdown",
      "source": [
        "응용2"
      ],
      "metadata": {
        "id": "lphvnGhUIisE"
      }
    },
    {
      "cell_type": "code",
      "source": [
        "grades=[85, 90, 92, 78, 80, 95]\n",
        "a = sum(grades)/6\n",
        "if a > 85:\n",
        "  print(\"시험에 합격했습니다.\")\n",
        "else:\n",
        "  print(\"\")"
      ],
      "metadata": {
        "id": "4g0SN1u9J3sg",
        "outputId": "7d8ec200-ace1-4e2d-c26a-fd72bee43c86",
        "colab": {
          "base_uri": "https://localhost:8080/"
        }
      },
      "execution_count": 21,
      "outputs": [
        {
          "output_type": "stream",
          "name": "stdout",
          "text": [
            "시험에 합격했습니다.\n"
          ]
        }
      ]
    },
    {
      "cell_type": "code",
      "source": [
        "grades=[85, 90, 92, 78, 80, 95]\n",
        "sum = 0\n",
        "count = 0\n",
        "\n",
        "for grade in grades:\n",
        "    sum = sum + grade\n",
        "    count = count + 1\n",
        "\n",
        "average = sum / count\n",
        "\n",
        "if average > 85:\n",
        "    print(\"축하합니다. 시험에 합격했습니다.\")"
      ],
      "metadata": {
        "id": "by2RCEKMLS5m",
        "outputId": "6f701222-0e95-462b-dcdd-e649f4995e74",
        "colab": {
          "base_uri": "https://localhost:8080/"
        }
      },
      "execution_count": 23,
      "outputs": [
        {
          "output_type": "stream",
          "name": "stdout",
          "text": [
            "축하합니다. 시험에 합격했습니다.\n"
          ]
        }
      ]
    },
    {
      "cell_type": "code",
      "source": [
        "total = 0\n",
        "for i in range(1, 11):\n",
        "    total += i\n",
        "    print(f\"i의 값: {i}, 합계: {total}\")\n"
      ],
      "metadata": {
        "colab": {
          "base_uri": "https://localhost:8080/"
        },
        "id": "GBFnZzRo4yJe",
        "outputId": "9fcc195e-ac87-4125-f74c-5d042f0a5733"
      },
      "execution_count": null,
      "outputs": [
        {
          "output_type": "stream",
          "name": "stdout",
          "text": [
            "i의 값: 1, 합계: 1\n",
            "i의 값: 2, 합계: 3\n",
            "i의 값: 3, 합계: 6\n",
            "i의 값: 4, 합계: 10\n",
            "i의 값: 5, 합계: 15\n",
            "i의 값: 6, 합계: 21\n",
            "i의 값: 7, 합계: 28\n",
            "i의 값: 8, 합계: 36\n",
            "i의 값: 9, 합계: 45\n",
            "i의 값: 10, 합계: 55\n"
          ]
        }
      ]
    },
    {
      "cell_type": "code",
      "source": [],
      "metadata": {
        "id": "WIxDyTcEG7Qy"
      },
      "execution_count": null,
      "outputs": []
    },
    {
      "cell_type": "code",
      "source": [
        "for i in range(1, 10):\n",
        "    print(f\"-----------{i}단------------\")\n",
        "    for j in range(1, 10):\n",
        "        print(f\"구구단 : {i} x {j} = {i*j} 입니다.\")\n",
        "    print()\n"
      ],
      "metadata": {
        "colab": {
          "base_uri": "https://localhost:8080/"
        },
        "id": "iyHox4M4okw1",
        "outputId": "96096df7-b18d-484c-f0ad-cfecbf2f1860"
      },
      "execution_count": null,
      "outputs": [
        {
          "output_type": "stream",
          "name": "stdout",
          "text": [
            "-----------1단------------\n",
            "구구단 : 1 x 1 = 1 입니다.\n",
            "구구단 : 1 x 2 = 2 입니다.\n",
            "구구단 : 1 x 3 = 3 입니다.\n",
            "구구단 : 1 x 4 = 4 입니다.\n",
            "구구단 : 1 x 5 = 5 입니다.\n",
            "구구단 : 1 x 6 = 6 입니다.\n",
            "구구단 : 1 x 7 = 7 입니다.\n",
            "구구단 : 1 x 8 = 8 입니다.\n",
            "구구단 : 1 x 9 = 9 입니다.\n",
            "\n",
            "-----------2단------------\n",
            "구구단 : 2 x 1 = 2 입니다.\n",
            "구구단 : 2 x 2 = 4 입니다.\n",
            "구구단 : 2 x 3 = 6 입니다.\n",
            "구구단 : 2 x 4 = 8 입니다.\n",
            "구구단 : 2 x 5 = 10 입니다.\n",
            "구구단 : 2 x 6 = 12 입니다.\n",
            "구구단 : 2 x 7 = 14 입니다.\n",
            "구구단 : 2 x 8 = 16 입니다.\n",
            "구구단 : 2 x 9 = 18 입니다.\n",
            "\n",
            "-----------3단------------\n",
            "구구단 : 3 x 1 = 3 입니다.\n",
            "구구단 : 3 x 2 = 6 입니다.\n",
            "구구단 : 3 x 3 = 9 입니다.\n",
            "구구단 : 3 x 4 = 12 입니다.\n",
            "구구단 : 3 x 5 = 15 입니다.\n",
            "구구단 : 3 x 6 = 18 입니다.\n",
            "구구단 : 3 x 7 = 21 입니다.\n",
            "구구단 : 3 x 8 = 24 입니다.\n",
            "구구단 : 3 x 9 = 27 입니다.\n",
            "\n",
            "-----------4단------------\n",
            "구구단 : 4 x 1 = 4 입니다.\n",
            "구구단 : 4 x 2 = 8 입니다.\n",
            "구구단 : 4 x 3 = 12 입니다.\n",
            "구구단 : 4 x 4 = 16 입니다.\n",
            "구구단 : 4 x 5 = 20 입니다.\n",
            "구구단 : 4 x 6 = 24 입니다.\n",
            "구구단 : 4 x 7 = 28 입니다.\n",
            "구구단 : 4 x 8 = 32 입니다.\n",
            "구구단 : 4 x 9 = 36 입니다.\n",
            "\n",
            "-----------5단------------\n",
            "구구단 : 5 x 1 = 5 입니다.\n",
            "구구단 : 5 x 2 = 10 입니다.\n",
            "구구단 : 5 x 3 = 15 입니다.\n",
            "구구단 : 5 x 4 = 20 입니다.\n",
            "구구단 : 5 x 5 = 25 입니다.\n",
            "구구단 : 5 x 6 = 30 입니다.\n",
            "구구단 : 5 x 7 = 35 입니다.\n",
            "구구단 : 5 x 8 = 40 입니다.\n",
            "구구단 : 5 x 9 = 45 입니다.\n",
            "\n",
            "-----------6단------------\n",
            "구구단 : 6 x 1 = 6 입니다.\n",
            "구구단 : 6 x 2 = 12 입니다.\n",
            "구구단 : 6 x 3 = 18 입니다.\n",
            "구구단 : 6 x 4 = 24 입니다.\n",
            "구구단 : 6 x 5 = 30 입니다.\n",
            "구구단 : 6 x 6 = 36 입니다.\n",
            "구구단 : 6 x 7 = 42 입니다.\n",
            "구구단 : 6 x 8 = 48 입니다.\n",
            "구구단 : 6 x 9 = 54 입니다.\n",
            "\n",
            "-----------7단------------\n",
            "구구단 : 7 x 1 = 7 입니다.\n",
            "구구단 : 7 x 2 = 14 입니다.\n",
            "구구단 : 7 x 3 = 21 입니다.\n",
            "구구단 : 7 x 4 = 28 입니다.\n",
            "구구단 : 7 x 5 = 35 입니다.\n",
            "구구단 : 7 x 6 = 42 입니다.\n",
            "구구단 : 7 x 7 = 49 입니다.\n",
            "구구단 : 7 x 8 = 56 입니다.\n",
            "구구단 : 7 x 9 = 63 입니다.\n",
            "\n",
            "-----------8단------------\n",
            "구구단 : 8 x 1 = 8 입니다.\n",
            "구구단 : 8 x 2 = 16 입니다.\n",
            "구구단 : 8 x 3 = 24 입니다.\n",
            "구구단 : 8 x 4 = 32 입니다.\n",
            "구구단 : 8 x 5 = 40 입니다.\n",
            "구구단 : 8 x 6 = 48 입니다.\n",
            "구구단 : 8 x 7 = 56 입니다.\n",
            "구구단 : 8 x 8 = 64 입니다.\n",
            "구구단 : 8 x 9 = 72 입니다.\n",
            "\n",
            "-----------9단------------\n",
            "구구단 : 9 x 1 = 9 입니다.\n",
            "구구단 : 9 x 2 = 18 입니다.\n",
            "구구단 : 9 x 3 = 27 입니다.\n",
            "구구단 : 9 x 4 = 36 입니다.\n",
            "구구단 : 9 x 5 = 45 입니다.\n",
            "구구단 : 9 x 6 = 54 입니다.\n",
            "구구단 : 9 x 7 = 63 입니다.\n",
            "구구단 : 9 x 8 = 72 입니다.\n",
            "구구단 : 9 x 9 = 81 입니다.\n",
            "\n"
          ]
        }
      ]
    },
    {
      "cell_type": "code",
      "source": [
        "for i in range(1,10):\n",
        "  print((\"-------{}단--------\").format(i))\n",
        "  for j in range(1,10):\n",
        "    print((\"{} x {} = {}\").format(i,j,i*j))"
      ],
      "metadata": {
        "id": "sJgosjZlED5-",
        "outputId": "e8a4b35f-8113-4309-d079-56dbfde94257",
        "colab": {
          "base_uri": "https://localhost:8080/"
        }
      },
      "execution_count": 6,
      "outputs": [
        {
          "output_type": "stream",
          "name": "stdout",
          "text": [
            "-------1단--------\n",
            "1 x 1 = 1\n",
            "1 x 2 = 2\n",
            "1 x 3 = 3\n",
            "1 x 4 = 4\n",
            "1 x 5 = 5\n",
            "1 x 6 = 6\n",
            "1 x 7 = 7\n",
            "1 x 8 = 8\n",
            "1 x 9 = 9\n",
            "-------2단--------\n",
            "2 x 1 = 2\n",
            "2 x 2 = 4\n",
            "2 x 3 = 6\n",
            "2 x 4 = 8\n",
            "2 x 5 = 10\n",
            "2 x 6 = 12\n",
            "2 x 7 = 14\n",
            "2 x 8 = 16\n",
            "2 x 9 = 18\n",
            "-------3단--------\n",
            "3 x 1 = 3\n",
            "3 x 2 = 6\n",
            "3 x 3 = 9\n",
            "3 x 4 = 12\n",
            "3 x 5 = 15\n",
            "3 x 6 = 18\n",
            "3 x 7 = 21\n",
            "3 x 8 = 24\n",
            "3 x 9 = 27\n",
            "-------4단--------\n",
            "4 x 1 = 4\n",
            "4 x 2 = 8\n",
            "4 x 3 = 12\n",
            "4 x 4 = 16\n",
            "4 x 5 = 20\n",
            "4 x 6 = 24\n",
            "4 x 7 = 28\n",
            "4 x 8 = 32\n",
            "4 x 9 = 36\n",
            "-------5단--------\n",
            "5 x 1 = 5\n",
            "5 x 2 = 10\n",
            "5 x 3 = 15\n",
            "5 x 4 = 20\n",
            "5 x 5 = 25\n",
            "5 x 6 = 30\n",
            "5 x 7 = 35\n",
            "5 x 8 = 40\n",
            "5 x 9 = 45\n",
            "-------6단--------\n",
            "6 x 1 = 6\n",
            "6 x 2 = 12\n",
            "6 x 3 = 18\n",
            "6 x 4 = 24\n",
            "6 x 5 = 30\n",
            "6 x 6 = 36\n",
            "6 x 7 = 42\n",
            "6 x 8 = 48\n",
            "6 x 9 = 54\n",
            "-------7단--------\n",
            "7 x 1 = 7\n",
            "7 x 2 = 14\n",
            "7 x 3 = 21\n",
            "7 x 4 = 28\n",
            "7 x 5 = 35\n",
            "7 x 6 = 42\n",
            "7 x 7 = 49\n",
            "7 x 8 = 56\n",
            "7 x 9 = 63\n",
            "-------8단--------\n",
            "8 x 1 = 8\n",
            "8 x 2 = 16\n",
            "8 x 3 = 24\n",
            "8 x 4 = 32\n",
            "8 x 5 = 40\n",
            "8 x 6 = 48\n",
            "8 x 7 = 56\n",
            "8 x 8 = 64\n",
            "8 x 9 = 72\n",
            "-------9단--------\n",
            "9 x 1 = 9\n",
            "9 x 2 = 18\n",
            "9 x 3 = 27\n",
            "9 x 4 = 36\n",
            "9 x 5 = 45\n",
            "9 x 6 = 54\n",
            "9 x 7 = 63\n",
            "9 x 8 = 72\n",
            "9 x 9 = 81\n"
          ]
        }
      ]
    },
    {
      "cell_type": "code",
      "source": [
        "a = int(input())\n",
        "if a >= 10000:\n",
        "  print(\"구매가능\")\n",
        "else:\n",
        "  print(\"구매불가능\")"
      ],
      "metadata": {
        "colab": {
          "base_uri": "https://localhost:8080/"
        },
        "id": "nR8WcyJIxRGd",
        "outputId": "e429106d-4d96-4820-feae-b8422a25ec9f"
      },
      "execution_count": null,
      "outputs": [
        {
          "output_type": "stream",
          "name": "stdout",
          "text": [
            "25100\n",
            "구매가능\n"
          ]
        }
      ]
    },
    {
      "cell_type": "code",
      "source": [
        "j = int(input())\n",
        "if j >= 10000:\n",
        "  print(\"구매가능\")\n",
        "else:\n",
        "  print(\"구매불가능\")"
      ],
      "metadata": {
        "id": "kRtPZrwYGTtd",
        "outputId": "96b2dc5e-157e-41e2-8c14-3c134e2fd289",
        "colab": {
          "base_uri": "https://localhost:8080/"
        }
      },
      "execution_count": 13,
      "outputs": [
        {
          "output_type": "stream",
          "name": "stdout",
          "text": [
            "1256597235643526\n",
            "구매가능\n"
          ]
        }
      ]
    }
  ]
}