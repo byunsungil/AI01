{
  "nbformat": 4,
  "nbformat_minor": 0,
  "metadata": {
    "colab": {
      "provenance": [],
      "authorship_tag": "ABX9TyNXf47mkzKBVpXxK2rQ+MA7",
      "include_colab_link": true
    },
    "kernelspec": {
      "name": "python3",
      "display_name": "Python 3"
    },
    "language_info": {
      "name": "python"
    }
  },
  "cells": [
    {
      "cell_type": "markdown",
      "metadata": {
        "id": "view-in-github",
        "colab_type": "text"
      },
      "source": [
        "<a href=\"https://colab.research.google.com/github/byunsungil/AI01/blob/main/%EC%9D%B8%EA%B3%B5%EC%A7%80%EB%8A%A5.ipynb\" target=\"_parent\"><img src=\"https://colab.research.google.com/assets/colab-badge.svg\" alt=\"Open In Colab\"/></a>"
      ]
    },
    {
      "cell_type": "code",
      "source": [
        "name = \"변성일\"\n",
        "age = 25\n",
        "print(\"저의 이름은 {}이고, 나이는 {}살 입니다.\".format(name,age))"
      ],
      "metadata": {
        "id": "ZyHMRKiM02MQ",
        "colab": {
          "base_uri": "https://localhost:8080/"
        },
        "outputId": "082d1e84-9d79-41ab-935e-e83aa459c0de"
      },
      "execution_count": 2,
      "outputs": [
        {
          "output_type": "stream",
          "name": "stdout",
          "text": [
            "저의 이름은 변성일이고, 나이는 25살 입니다.\n"
          ]
        }
      ]
    },
    {
      "cell_type": "code",
      "source": [],
      "metadata": {
        "id": "dk6lsKvt01e8"
      },
      "execution_count": null,
      "outputs": []
    },
    {
      "cell_type": "code",
      "source": [
        "for i in range(1, 10):\n",
        "    print(f\"-----------{i}단------------\")\n",
        "    for j in range(1, 10):\n",
        "        print(f\"구구단 : {i} x {j} = {i*j} 입니다.\")\n",
        "    print()\n"
      ],
      "metadata": {
        "colab": {
          "base_uri": "https://localhost:8080/"
        },
        "id": "iyHox4M4okw1",
        "outputId": "96096df7-b18d-484c-f0ad-cfecbf2f1860"
      },
      "execution_count": null,
      "outputs": [
        {
          "output_type": "stream",
          "name": "stdout",
          "text": [
            "-----------1단------------\n",
            "구구단 : 1 x 1 = 1 입니다.\n",
            "구구단 : 1 x 2 = 2 입니다.\n",
            "구구단 : 1 x 3 = 3 입니다.\n",
            "구구단 : 1 x 4 = 4 입니다.\n",
            "구구단 : 1 x 5 = 5 입니다.\n",
            "구구단 : 1 x 6 = 6 입니다.\n",
            "구구단 : 1 x 7 = 7 입니다.\n",
            "구구단 : 1 x 8 = 8 입니다.\n",
            "구구단 : 1 x 9 = 9 입니다.\n",
            "\n",
            "-----------2단------------\n",
            "구구단 : 2 x 1 = 2 입니다.\n",
            "구구단 : 2 x 2 = 4 입니다.\n",
            "구구단 : 2 x 3 = 6 입니다.\n",
            "구구단 : 2 x 4 = 8 입니다.\n",
            "구구단 : 2 x 5 = 10 입니다.\n",
            "구구단 : 2 x 6 = 12 입니다.\n",
            "구구단 : 2 x 7 = 14 입니다.\n",
            "구구단 : 2 x 8 = 16 입니다.\n",
            "구구단 : 2 x 9 = 18 입니다.\n",
            "\n",
            "-----------3단------------\n",
            "구구단 : 3 x 1 = 3 입니다.\n",
            "구구단 : 3 x 2 = 6 입니다.\n",
            "구구단 : 3 x 3 = 9 입니다.\n",
            "구구단 : 3 x 4 = 12 입니다.\n",
            "구구단 : 3 x 5 = 15 입니다.\n",
            "구구단 : 3 x 6 = 18 입니다.\n",
            "구구단 : 3 x 7 = 21 입니다.\n",
            "구구단 : 3 x 8 = 24 입니다.\n",
            "구구단 : 3 x 9 = 27 입니다.\n",
            "\n",
            "-----------4단------------\n",
            "구구단 : 4 x 1 = 4 입니다.\n",
            "구구단 : 4 x 2 = 8 입니다.\n",
            "구구단 : 4 x 3 = 12 입니다.\n",
            "구구단 : 4 x 4 = 16 입니다.\n",
            "구구단 : 4 x 5 = 20 입니다.\n",
            "구구단 : 4 x 6 = 24 입니다.\n",
            "구구단 : 4 x 7 = 28 입니다.\n",
            "구구단 : 4 x 8 = 32 입니다.\n",
            "구구단 : 4 x 9 = 36 입니다.\n",
            "\n",
            "-----------5단------------\n",
            "구구단 : 5 x 1 = 5 입니다.\n",
            "구구단 : 5 x 2 = 10 입니다.\n",
            "구구단 : 5 x 3 = 15 입니다.\n",
            "구구단 : 5 x 4 = 20 입니다.\n",
            "구구단 : 5 x 5 = 25 입니다.\n",
            "구구단 : 5 x 6 = 30 입니다.\n",
            "구구단 : 5 x 7 = 35 입니다.\n",
            "구구단 : 5 x 8 = 40 입니다.\n",
            "구구단 : 5 x 9 = 45 입니다.\n",
            "\n",
            "-----------6단------------\n",
            "구구단 : 6 x 1 = 6 입니다.\n",
            "구구단 : 6 x 2 = 12 입니다.\n",
            "구구단 : 6 x 3 = 18 입니다.\n",
            "구구단 : 6 x 4 = 24 입니다.\n",
            "구구단 : 6 x 5 = 30 입니다.\n",
            "구구단 : 6 x 6 = 36 입니다.\n",
            "구구단 : 6 x 7 = 42 입니다.\n",
            "구구단 : 6 x 8 = 48 입니다.\n",
            "구구단 : 6 x 9 = 54 입니다.\n",
            "\n",
            "-----------7단------------\n",
            "구구단 : 7 x 1 = 7 입니다.\n",
            "구구단 : 7 x 2 = 14 입니다.\n",
            "구구단 : 7 x 3 = 21 입니다.\n",
            "구구단 : 7 x 4 = 28 입니다.\n",
            "구구단 : 7 x 5 = 35 입니다.\n",
            "구구단 : 7 x 6 = 42 입니다.\n",
            "구구단 : 7 x 7 = 49 입니다.\n",
            "구구단 : 7 x 8 = 56 입니다.\n",
            "구구단 : 7 x 9 = 63 입니다.\n",
            "\n",
            "-----------8단------------\n",
            "구구단 : 8 x 1 = 8 입니다.\n",
            "구구단 : 8 x 2 = 16 입니다.\n",
            "구구단 : 8 x 3 = 24 입니다.\n",
            "구구단 : 8 x 4 = 32 입니다.\n",
            "구구단 : 8 x 5 = 40 입니다.\n",
            "구구단 : 8 x 6 = 48 입니다.\n",
            "구구단 : 8 x 7 = 56 입니다.\n",
            "구구단 : 8 x 8 = 64 입니다.\n",
            "구구단 : 8 x 9 = 72 입니다.\n",
            "\n",
            "-----------9단------------\n",
            "구구단 : 9 x 1 = 9 입니다.\n",
            "구구단 : 9 x 2 = 18 입니다.\n",
            "구구단 : 9 x 3 = 27 입니다.\n",
            "구구단 : 9 x 4 = 36 입니다.\n",
            "구구단 : 9 x 5 = 45 입니다.\n",
            "구구단 : 9 x 6 = 54 입니다.\n",
            "구구단 : 9 x 7 = 63 입니다.\n",
            "구구단 : 9 x 8 = 72 입니다.\n",
            "구구단 : 9 x 9 = 81 입니다.\n",
            "\n"
          ]
        }
      ]
    },
    {
      "cell_type": "code",
      "source": [
        "a = int(input())\n",
        "if a >= 10000:\n",
        "  print(\"짜장면 구매가능\")\n",
        "else:\n",
        "  print(\"짜장면 구매불가\")"
      ],
      "metadata": {
        "colab": {
          "base_uri": "https://localhost:8080/"
        },
        "id": "nR8WcyJIxRGd",
        "outputId": "e429106d-4d96-4820-feae-b8422a25ec9f"
      },
      "execution_count": null,
      "outputs": [
        {
          "output_type": "stream",
          "name": "stdout",
          "text": [
            "25100\n",
            "구매가능\n"
          ]
        }
      ]
    }
  ]
}